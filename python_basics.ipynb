{
  "nbformat": 4,
  "nbformat_minor": 0,
  "metadata": {
    "colab": {
      "provenance": []
    },
    "kernelspec": {
      "name": "python3",
      "display_name": "Python 3"
    },
    "language_info": {
      "name": "python"
    }
  },
  "cells": [
    {
      "cell_type": "markdown",
      "source": [],
      "metadata": {
        "id": "t9r1cu4dNjpE"
      }
    },
    {
      "cell_type": "markdown",
      "source": [
        "# Python basics"
      ],
      "metadata": {
        "id": "E_MSXL7fNxhp"
      }
    },
    {
      "cell_type": "markdown",
      "source": [
        "1. What is python, and why is it popular?\n",
        "  - Python is a high-level, general-purpose programming language known for its simple and readable syntax. It’s popular because it’s beginner-friendly, versatile and has hugecommunity to add on libraries.\n",
        "\n",
        "2. What is an interpreter in python?\n",
        "    - An interpreter is a program that runs python code line byline. Instead of cpompiling the whole program atonce. Python reads and execute each line ene one at time.\n",
        "\n",
        "3. What are pre-defined keywords in python?\n",
        "    - These are the reserved words in python thathave special meaning like if, else, while, for, true, falseetc. They're part of the language's syntax and can't be used for otherpurposes, like naming variables.\n",
        "\n",
        "4. Can keywords be used as variable names?\n",
        "    - NO, pyhton keywords cannot be used as variable names because they are reserved by the language to perform specific functions.\n",
        "\n",
        "5. What is mutability in Python?\n",
        "    - Mutability refers to whether or not an object’s value can change after it's created.If an object is mutable, you can change its contents. If it’s immutable, you can’t modify it directly.\n",
        "\n",
        "6. Why are lists mutable, but tuples are immutable?\n",
        "    - Lists are designed to be flexible and allow changes like adding, removing, or updating elements. Tuples, on the other hand, are meant to be fixed collections of items, often used when you don’t want the data to change.\n",
        "\n",
        "7. What is the difference between == and is operators in Python?\n",
        "   - == checks if two variables have the same value, while is checks if they refer to the exact same object in memory. So, two different objects with the same value will return True with == but False with is.\n",
        "\n",
        "8. What are logical operators in Python?\n",
        "    - Logical operators are used to combine conditional statements. Python has three: and, or, and not. They help in making decisions based on multiple conditions.\n",
        "\n",
        "9. What is type casting in Python?\n",
        "    - Type casting is converting a variable from one data type to another, like turning a string into an integer.\n",
        "\n",
        "10. What is the difference between implicit and explicit type casting?\n",
        "     - Implicit type casting is done automatically by Python, like when it converts an integer to a float during a calculation. Explicit casting is when the programmer manually converts a type using functions like int(), str(), or float().\n",
        "\n",
        "11. What is the purpose of conditional statements in Python?\n",
        "   - onditional statements let programs make decisions. They allow the code to take different paths based on whether a condition is true or false, using statements like if, elif, and else.\n",
        "\n",
        "12. How does the elif statement work?\n",
        "    - The elif statement stands for \"else if.\" It lets you check multiple conditions in order.\n",
        "\n",
        "13. What is the difference between for and while loops?\n",
        "    - A for loop is used when you know how many times you want to repeat something, like looping through a list. A while loop is used when you want to repeat something until a certain condition is no longer true.\n",
        "\n",
        "14. Describe a scenario where a while loop is more suitable than a for loop.\n",
        "\n",
        "    - If you're building a program that asks the user for a password until they get it right, a while loop is better because you don’t know how many tries the user will need — it just keeps going until the condition is met."
      ],
      "metadata": {
        "id": "RoDAuXPYPOfr"
      }
    },
    {
      "cell_type": "code",
      "source": [
        "#1. Print \"Hello, World!\"\n",
        "print(\"Hello, World!\")"
      ],
      "metadata": {
        "colab": {
          "base_uri": "https://localhost:8080/"
        },
        "id": "_JPlxhbCNq0g",
        "outputId": "bbca3c3c-e3ef-458f-f140-2bd19121ba14"
      },
      "execution_count": null,
      "outputs": [
        {
          "output_type": "stream",
          "name": "stdout",
          "text": [
            "Hello, World!\n"
          ]
        }
      ]
    },
    {
      "cell_type": "code",
      "source": [
        "#2. Display your name and age\n",
        "name = \"kunal\"\n",
        "age = 28\n",
        "print(\"my name is\", name)\n",
        "print(\"I am\", age, \"years old\")"
      ],
      "metadata": {
        "colab": {
          "base_uri": "https://localhost:8080/"
        },
        "id": "S78YPPyGTxRh",
        "outputId": "b0494938-a06b-4f20-e64e-f983a1a5f7e2"
      },
      "execution_count": null,
      "outputs": [
        {
          "output_type": "stream",
          "name": "stdout",
          "text": [
            "my name is kunal\n",
            "I am 28 years old\n"
          ]
        }
      ]
    },
    {
      "cell_type": "code",
      "source": [
        "#3. Print all predefined keywords in Python\n",
        "import keyword\n",
        "print(\"Python Keywords:\")\n",
        "print(keyword.kwlist)"
      ],
      "metadata": {
        "colab": {
          "base_uri": "https://localhost:8080/"
        },
        "id": "j8STx1qGUVID",
        "outputId": "4ffd859f-2393-4fe9-c97a-f97770691b0c"
      },
      "execution_count": null,
      "outputs": [
        {
          "output_type": "stream",
          "name": "stdout",
          "text": [
            "Python Keywords:\n",
            "['False', 'None', 'True', 'and', 'as', 'assert', 'async', 'await', 'break', 'class', 'continue', 'def', 'del', 'elif', 'else', 'except', 'finally', 'for', 'from', 'global', 'if', 'import', 'in', 'is', 'lambda', 'nonlocal', 'not', 'or', 'pass', 'raise', 'return', 'try', 'while', 'with', 'yield']\n"
          ]
        }
      ]
    },
    {
      "cell_type": "code",
      "source": [
        "#4. Check if a word is a Python keyword\n",
        "import keyword\n",
        "\n",
        "word = input(\"Enter a word: \")\n",
        "if keyword.iskeyword(word):\n",
        "    print(f\"{word} is a Python keyword.\")\n",
        "else:\n",
        "    print(f\"{word} is not a Python keyword.\")"
      ],
      "metadata": {
        "colab": {
          "base_uri": "https://localhost:8080/"
        },
        "id": "8WfJ4Y1HUYaC",
        "outputId": "53538bdf-6b96-4116-df0e-0de08d191161"
      },
      "execution_count": null,
      "outputs": [
        {
          "output_type": "stream",
          "name": "stdout",
          "text": [
            "Enter a word: true\n",
            "true is not a Python keyword.\n"
          ]
        }
      ]
    },
    {
      "cell_type": "code",
      "source": [
        "#5. List vs Tuple mutability\n",
        "# List (mutable)\n",
        "my_list = [1, 2, 8]\n",
        "my_list[1] = 13\n",
        "print(\"Modified List:\", my_list)\n",
        "\n",
        "# Tuple (immutable)\n",
        "my_tuple = (1, 2, 3)\n",
        "# my_tuple[1] = 10  # This line would cause an error\n",
        "print(\"Tuple can't be modified:\", my_tuple)"
      ],
      "metadata": {
        "colab": {
          "base_uri": "https://localhost:8080/"
        },
        "id": "9oQJfblXUazM",
        "outputId": "f47583e5-a619-42a0-e9ad-bbabc6a6a71b"
      },
      "execution_count": null,
      "outputs": [
        {
          "output_type": "stream",
          "name": "stdout",
          "text": [
            "Modified List: [1, 13, 8]\n",
            "Tuple can't be modified: (1, 2, 3)\n"
          ]
        }
      ]
    },
    {
      "cell_type": "code",
      "source": [
        "#6. Function to show mutable vs immutable arguments\n",
        "def modify_list(lst):\n",
        "    lst.append(4)\n",
        "\n",
        "def modify_number(n):\n",
        "    n += 1\n",
        "\n",
        "my_list = [1, 2, 3]\n",
        "my_num = 10\n",
        "\n",
        "modify_list(my_list)\n",
        "modify_number(my_num)\n",
        "\n",
        "print(\"List after function:\", my_list)  # Modified\n",
        "print(\"Number after function:\", my_num)  # Unchanged"
      ],
      "metadata": {
        "colab": {
          "base_uri": "https://localhost:8080/"
        },
        "id": "xd7Cmv0dUzzb",
        "outputId": "5af89ce2-5c7d-458e-f5a1-815514c7861f"
      },
      "execution_count": null,
      "outputs": [
        {
          "output_type": "stream",
          "name": "stdout",
          "text": [
            "List after function: [1, 2, 3, 4]\n",
            "Number after function: 10\n"
          ]
        }
      ]
    },
    {
      "cell_type": "code",
      "source": [
        "#7. Basic arithmetic on two user inputs\n",
        "a = float(input(\"Enter first number: \"))\n",
        "b = float(input(\"Enter second number: \"))\n",
        "\n",
        "print(\"Sum:\", a + b)\n",
        "print(\"Difference:\", a - b)\n",
        "print(\"Product:\", a * b)\n",
        "print(\"Quotient:\", a / b if b != 0 else \"Cannot divide by zero\")"
      ],
      "metadata": {
        "colab": {
          "base_uri": "https://localhost:8080/"
        },
        "id": "HwIHbEknU7sB",
        "outputId": "3e222e00-e0f8-48d6-cb0c-bffce24bafe6"
      },
      "execution_count": null,
      "outputs": [
        {
          "output_type": "stream",
          "name": "stdout",
          "text": [
            "Enter first number: 2\n",
            "Enter second number: 3\n",
            "Sum: 5.0\n",
            "Difference: -1.0\n",
            "Product: 6.0\n",
            "Quotient: 0.6666666666666666\n"
          ]
        }
      ]
    },
    {
      "cell_type": "code",
      "source": [
        "#8. Demonstrate logical operators\n",
        "x = int(input(\"Enter a number: \"))\n",
        "if x > 0 and x < 100:\n",
        "    print(\"Number is between 1 and 99\")\n",
        "elif x < 0 or x > 100:\n",
        "    print(\"Number is out of range\")\n",
        "else:\n",
        "    print(\"Number is either 0 or 100\")"
      ],
      "metadata": {
        "colab": {
          "base_uri": "https://localhost:8080/"
        },
        "id": "TUyLMBhwU_5B",
        "outputId": "0fea510a-0a88-4c0d-fb65-7093f1767c22"
      },
      "execution_count": null,
      "outputs": [
        {
          "output_type": "stream",
          "name": "stdout",
          "text": [
            "Enter a number: 2\n",
            "Number is between 1 and 99\n"
          ]
        }
      ]
    },
    {
      "cell_type": "code",
      "source": [
        "#10. Type casting with list elements\n",
        "string_list = [\"1\", \"2\", \"3\"]\n",
        "int_list = [int(x) for x in string_list]\n",
        "\n",
        "print(\"Original list:\", string_list)\n",
        "print(\"Converted to integers:\", int_list)"
      ],
      "metadata": {
        "id": "AYVANr5wVNQY"
      },
      "execution_count": null,
      "outputs": []
    },
    {
      "cell_type": "code",
      "source": [
        "#12. Print numbers from 1 to 10 using for loop\n",
        "for i in range(1, 11):\n",
        "    print(i)"
      ],
      "metadata": {
        "id": "hQAJs4uGVXyA"
      },
      "execution_count": null,
      "outputs": []
    },
    {
      "cell_type": "code",
      "source": [
        "#13. Sum of all even numbers from 1 to 50\n",
        "total = 0\n",
        "for i in range(1, 51):\n",
        "    if i % 2 == 0:\n",
        "        total += i\n",
        "print(\"Sum of even numbers from 1 to 50:\", total)"
      ],
      "metadata": {
        "id": "t2ImZQdWVZGR"
      },
      "execution_count": null,
      "outputs": []
    },
    {
      "cell_type": "code",
      "source": [
        "#14. Reverse a string using while loop\n",
        "text = input(\"Enter a string: \")\n",
        "reversed_text = \"\"\n",
        "i = len(text) - 1\n",
        "\n",
        "while i >= 0:\n",
        "    reversed_text += text[i]\n",
        "    i -= 1\n",
        "\n",
        "print(\"Reversed string:\", reversed_text)\n"
      ],
      "metadata": {
        "id": "o1sRfnz2VcY4"
      },
      "execution_count": null,
      "outputs": []
    },
    {
      "cell_type": "code",
      "source": [
        "#15. Factorial of a number using while loop\n",
        "\n",
        "num = int(input(\"Enter a number: \"))\n",
        "factorial = 1\n",
        "i = 1\n",
        "\n",
        "while i <= num:\n",
        "    factorial *= i\n",
        "    i += 1\n",
        "\n",
        "print(\"Factorial:\", factorial)"
      ],
      "metadata": {
        "colab": {
          "base_uri": "https://localhost:8080/"
        },
        "id": "Ndi66bvgVfVQ",
        "outputId": "7b61b9ae-87d2-476d-93ca-b4195b717b0f"
      },
      "execution_count": null,
      "outputs": [
        {
          "output_type": "stream",
          "name": "stdout",
          "text": [
            "Enter a number: 5\n",
            "Factorial: 120\n"
          ]
        }
      ]
    },
    {
      "cell_type": "code",
      "source": [],
      "metadata": {
        "id": "Rjy6xvl4Vgjg"
      },
      "execution_count": null,
      "outputs": []
    }
  ]
}